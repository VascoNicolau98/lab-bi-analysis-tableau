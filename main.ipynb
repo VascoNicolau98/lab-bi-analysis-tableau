{
 "cells": [
  {
   "cell_type": "code",
   "execution_count": 3,
   "id": "93e092b2",
   "metadata": {},
   "outputs": [],
   "source": [
    "link = 'https://public.tableau.com/app/profile/vasco.nicolau/viz/LabBIAnalysis_16757858090060/Histria1?publish=yes'"
   ]
  }
 ],
 "metadata": {
  "kernelspec": {
   "display_name": "Python 3 (ipykernel)",
   "language": "python",
   "name": "python3"
  },
  "language_info": {
   "codemirror_mode": {
    "name": "ipython",
    "version": 3
   },
   "file_extension": ".py",
   "mimetype": "text/x-python",
   "name": "python",
   "nbconvert_exporter": "python",
   "pygments_lexer": "ipython3",
   "version": "3.9.13"
  }
 },
 "nbformat": 4,
 "nbformat_minor": 5
}
